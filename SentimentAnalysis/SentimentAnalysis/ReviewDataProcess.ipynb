{
 "cells": [
  {
   "cell_type": "markdown",
   "metadata": {},
   "source": [
    "### Process the Review Data \n",
    "a. process the review data of IMDb, Rotten Tomatoes and Inidivudal Film \n",
    "    1. combine into Pandas Dataframe\n",
    "    2. clean the text comment \n",
    "b. statsitc summary the review text data"
   ]
  },
  {
   "cell_type": "code",
   "execution_count": 2,
   "metadata": {
    "collapsed": true
   },
   "outputs": [],
   "source": [
    "import pandas as pd\n",
    "import numpy as np\n",
    "from tqdm import tqdm\n",
    "\n",
    "import json\n",
    "import matplotlib.pyplot as plt\n",
    "\n",
    "%matplotlib inline\n",
    "plt.style.use('ggplot')"
   ]
  },
  {
   "cell_type": "code",
   "execution_count": 43,
   "metadata": {
    "collapsed": true
   },
   "outputs": [],
   "source": [
    "## load the json data for processing\n",
    "# Total Review\n",
    "with open('review_data.json', 'r') as fp:\n",
    "    review_dict = json.load(fp)  \n",
    "    "
   ]
  },
  {
   "cell_type": "markdown",
   "metadata": {},
   "source": [
    "* Individual Review"
   ]
  },
  {
   "cell_type": "code",
   "execution_count": null,
   "metadata": {
    "collapsed": true
   },
   "outputs": [],
   "source": [
    "# Individual Review\n",
    "with open('beast_review.json', 'r') as fp:\n",
    "    beast_review = json.load(fp)\n",
    "\n",
    "df_beast = generate_review_df(beast_review)"
   ]
  },
  {
   "cell_type": "markdown",
   "metadata": {},
   "source": [
    "* Critics Review "
   ]
  },
  {
   "cell_type": "code",
   "execution_count": 65,
   "metadata": {
    "collapsed": false
   },
   "outputs": [],
   "source": [
    "# Critical Review\n",
    "with open('critic_review.json', 'r') as fp:\n",
    "    critic_review = json.load(fp)"
   ]
  },
  {
   "cell_type": "code",
   "execution_count": 87,
   "metadata": {
    "collapsed": false
   },
   "outputs": [
    {
     "name": "stderr",
     "output_type": "stream",
     "text": [
      "100%|██████████| 1967/1967 [00:10<00:00, 196.15it/s]\n"
     ]
    }
   ],
   "source": [
    "mov_ls = []\n",
    "\n",
    "for mov, val in tqdm(critic_review.items()):\n",
    "    df_mov = pd.DataFrame(val).T\n",
    "    # add up movie value\n",
    "    df_mov['movie'] = mov\n",
    "    df_mov.dropna(how = 'any', inplace = True)\n",
    "    mov_ls.append(df_mov)\n",
    "    \n",
    "## generate the critic review df \n",
    "df_review = pd.concat(mov_ls, axis = 0)\n",
    "\n",
    "df_review = df_review[df_review['score'] != '']"
   ]
  },
  {
   "cell_type": "code",
   "execution_count": 44,
   "metadata": {
    "collapsed": false
   },
   "outputs": [],
   "source": [
    "# movie list\n",
    "movie_ls = review_dict.keys()"
   ]
  },
  {
   "cell_type": "code",
   "execution_count": 45,
   "metadata": {
    "collapsed": true
   },
   "outputs": [],
   "source": [
    "def generate_review_df(movie_dict):\n",
    "    # generate the df\n",
    "    df_review = pd.DataFrame(movie_dict).T\n",
    "    df_review_mid = df_review.reset_index()\n",
    "    # eliminate the empty content\n",
    "    df_review_mid = df_review_mid[df_review_mid['content'] != '']\n",
    "    # transfer into integer rating\n",
    "    df_review_mid['rating'] = df_review_mid['rating'].apply(lambda x : int(x.split('/')[0]))\n",
    "\n",
    "    return df_review_mid"
   ]
  },
  {
   "cell_type": "code",
   "execution_count": 46,
   "metadata": {
    "collapsed": false
   },
   "outputs": [
    {
     "name": "stderr",
     "output_type": "stream",
     "text": [
      "100%|██████████| 2664/2664 [02:20<00:00, 18.97it/s]\n"
     ]
    }
   ],
   "source": [
    "mov_list = []\n",
    "\n",
    "for mov in tqdm(movie_ls):\n",
    "    # access the movie corresponding dic\n",
    "    ind_movie_dic = review_dict[mov]\n",
    "    \n",
    "    if len(ind_movie_dic) == 0:\n",
    "        print('{} movie is missing value'.format(mov))\n",
    "        continue\n",
    "    # derive the data frame\n",
    "    ind_df = generate_review_df(ind_movie_dic)\n",
    "    ind_df['movie'] = mov\n",
    "    # append the individual df\n",
    "    mov_list.append(ind_df)\n",
    "    \n",
    "df_review = pd.concat(mov_list)\n",
    "\n",
    "del mov_list "
   ]
  },
  {
   "cell_type": "markdown",
   "metadata": {},
   "source": [
    "in total 99994 comments"
   ]
  },
  {
   "cell_type": "code",
   "execution_count": 47,
   "metadata": {
    "collapsed": false
   },
   "outputs": [
    {
     "name": "stdout",
     "output_type": "stream",
     "text": [
      "<class 'pandas.core.frame.DataFrame'>\n",
      "Int64Index: 99994 entries, 0 to 23\n",
      "Data columns (total 5 columns):\n",
      "index      99994 non-null object\n",
      "content    99994 non-null object\n",
      "date       99994 non-null object\n",
      "rating     99994 non-null object\n",
      "movie      99994 non-null object\n",
      "dtypes: object(5)\n",
      "memory usage: 4.6+ MB\n"
     ]
    }
   ],
   "source": [
    "df_review.info()"
   ]
  },
  {
   "cell_type": "markdown",
   "metadata": {},
   "source": [
    "* check the review comment"
   ]
  },
  {
   "cell_type": "code",
   "execution_count": 100,
   "metadata": {
    "collapsed": true
   },
   "outputs": [],
   "source": [
    "def sample_comment(df_review, num = 10):\n",
    "    return df_review['content'].sample(num).values"
   ]
  },
  {
   "cell_type": "code",
   "execution_count": 105,
   "metadata": {
    "collapsed": false
   },
   "outputs": [
    {
     "data": {
      "text/plain": [
       "array([' After eight years and six instalments Paranormal Activity has indeed finally run its course. Be [thankful] that the series goes out with a bang rather than a whimper.',\n",
       "       ' The kind of movie that exists solely to facilitate a great performance in the lead role, and Julianne Moore provides one.',\n",
       "       ' It is a righteous, religious film that almost bludgeons audiences with its powerful message, and is the product of the one-man-band of Nate Parker, who wrote, directed and plays the lead.',\n",
       "       ' Fans of the source material may still be eager for the next chapter but for casual viewers this is a disappointingly bland sequel.',\n",
       "       ' What matters here is the dancing, an unexpectedly bold blend of pure sexuality and giddy aesthetics',\n",
       "       ' The movie approximates the boredom of life as a Tom Cruise stunt double.',\n",
       "       \" A loud, frenetic kid pleaser, though parents' brains may short-circuit.\",\n",
       "       \" Charles M. Schulz would have loved this one. It's a terrific tribute to him, his characters and his fans. The Tolstoy bit had me laughing out loud. Don't miss this one. \",\n",
       "       \" Jane Got a Gun manages to tell a modest - you might say highly inconsequential - yarn that's not even lightly spiced with ideas, circumspection, interesting characters or basic logic. It's a film that just... happens.\",\n",
       "       ' While the individual characters can be very appealing and charming, no one gets more than two lines at a time to further any agenda or plot.'],\n",
       "      dtype=object)"
      ]
     },
     "execution_count": 105,
     "metadata": {},
     "output_type": "execute_result"
    }
   ],
   "source": [
    "sample_comment(df_review)"
   ]
  },
  {
   "cell_type": "markdown",
   "metadata": {},
   "source": [
    "### Data Cleaning"
   ]
  },
  {
   "cell_type": "code",
   "execution_count": 49,
   "metadata": {
    "collapsed": true
   },
   "outputs": [],
   "source": [
    "import re"
   ]
  },
  {
   "cell_type": "code",
   "execution_count": 118,
   "metadata": {
    "collapsed": false
   },
   "outputs": [],
   "source": [
    "def review_clean(content):\n",
    "    signal = 'Was this review helpful? Sign in to vote.\\nPermalink'\n",
    "    if signal in content:\n",
    "        content = ''.join(content.split('\\n')[:-2])\n",
    "    \n",
    "    # Remove any extra spaces\n",
    "    text = re.sub(r\"[^A-Za-z0-9^,!.\\/'+-=]\", \" \", content)\n",
    "    text = re.sub(r\"what's\", \"what is \", text)\n",
    "    text = re.sub(r\"\\'s\", \" \", text)\n",
    "    text = re.sub(r\"\\'ve\", \" have \", text)\n",
    "    text = re.sub(r\"can't\", \"cannot \", text)\n",
    "    text = re.sub(r\"n't\", \" not \", text)\n",
    "    text = re.sub(r\"i'm\", \"i am \", text)\n",
    "    text = re.sub(r\"\\'re\", \" are \", text)\n",
    "    text = re.sub(r\"\\'d\", \" would \", text)\n",
    "    text = re.sub(r\"\\'ll\", \" will \", text)\n",
    "    text = re.sub(r\",\", \" \", text)\n",
    "    text = re.sub(r\"\\.\", \" \", text)\n",
    "    text = re.sub(r\"!\", \" ! \", text)\n",
    "    text = re.sub(r\"\\/\", \" \", text)\n",
    "    text = re.sub(r\"\\^\", \" ^ \", text)\n",
    "    text = re.sub(r\"\\+\", \" + \", text)\n",
    "    text = re.sub(r\"\\-\", \" - \", text)\n",
    "    text = re.sub(r\"\\=\", \" = \", text)\n",
    "    text = re.sub(r\"'\", \" \", text)\n",
    "    text = re.sub(r\":\", \" : \", text)\n",
    "    # remove the white space\n",
    "    text = re.sub(r\"   \", \" \", text) \n",
    "    text = re.sub(r\"  \", \" \", text)\n",
    "    \n",
    "    return text"
   ]
  },
  {
   "cell_type": "code",
   "execution_count": 119,
   "metadata": {
    "collapsed": false
   },
   "outputs": [],
   "source": [
    "# eliminate last two sentence\n",
    "df_review['content'] = df_review['content'].apply(review_clean)"
   ]
  },
  {
   "cell_type": "markdown",
   "metadata": {},
   "source": [
    "#### Statistical Summary"
   ]
  },
  {
   "cell_type": "code",
   "execution_count": 120,
   "metadata": {
    "collapsed": true
   },
   "outputs": [],
   "source": [
    "df_review['word_length'] = df_review['content'].apply(lambda x: len(x.split()))"
   ]
  },
  {
   "cell_type": "code",
   "execution_count": 121,
   "metadata": {
    "collapsed": false
   },
   "outputs": [
    {
     "data": {
      "text/plain": [
       "29.0"
      ]
     },
     "execution_count": 121,
     "metadata": {},
     "output_type": "execute_result"
    }
   ],
   "source": [
    "np.percentile(df_review['word_length'], 70)"
   ]
  },
  {
   "cell_type": "code",
   "execution_count": 6,
   "metadata": {
    "collapsed": false,
    "scrolled": true
   },
   "outputs": [
    {
     "data": {
      "text/plain": [
       "(1824, 209.11729703782228, 180.76305393838092)"
      ]
     },
     "execution_count": 6,
     "metadata": {},
     "output_type": "execute_result"
    },
    {
     "data": {
      "image/png": "[encoded data removed]",
      "text/plain": [
       "<Figure size 720x576 with 1 Axes>"
      ]
     },
     "metadata": {},
     "output_type": "display_data"
    }
   ],
   "source": [
    "df_review['word_length'].hist(figsize = (10,8),\n",
    "                              bins = 25,\n",
    "                              color = 'skyblue',\n",
    "                              rwidth = 0.9)\n",
    "plt.title(\"Histogram of IMDb User Review Word Length\", fontsize = 20)\n",
    "plt.xlim(0, 1250)\n",
    "np.max(df_review['word_length']), np.mean(df_review['word_length']), np.std(df_review['word_length'])"
   ]
  },
  {
   "cell_type": "code",
   "execution_count": 125,
   "metadata": {
    "collapsed": true
   },
   "outputs": [],
   "source": [
    "# transfer into datetime\n",
    "df_review['date'] = df_review['date'].apply(pd.to_datetime)"
   ]
  },
  {
   "cell_type": "code",
   "execution_count": 126,
   "metadata": {
    "collapsed": true
   },
   "outputs": [],
   "source": [
    "#df_review.to_csv('general_review.csv')\n",
    "df_review.to_csv('critics_review.csv')"
   ]
  },
  {
   "cell_type": "markdown",
   "metadata": {},
   "source": [
    "Review Training Dataset"
   ]
  },
  {
   "cell_type": "code",
   "execution_count": 9,
   "metadata": {
    "collapsed": false
   },
   "outputs": [],
   "source": [
    "df_review['score'] = df_review['score'].astype(float)\n",
    "df_review = df_review[~((df_review['score'] > 10) | (df_review['score'] < 0))]"
   ]
  },
  {
   "cell_type": "code",
   "execution_count": 13,
   "metadata": {
    "collapsed": false
   },
   "outputs": [
    {
     "data": {
      "text/plain": [
       "<matplotlib.axes._subplots.AxesSubplot at 0x11feedc18>"
      ]
     },
     "execution_count": 13,
     "metadata": {},
     "output_type": "execute_result"
    },
    {
     "data": {
      "image/png": "[encoded data removed]",
      "text/plain": [
       "<Figure size 720x576 with 1 Axes>"
      ]
     },
     "metadata": {},
     "output_type": "display_data"
    }
   ],
   "source": [
    "df_review['score'].hist(bins = 20,\n",
    "                        figsize = (10,8),\n",
    "                        rwidth = 0.9,\n",
    "                        color = 'purple', alpha =0.8 )"
   ]
  },
  {
   "cell_type": "markdown",
   "metadata": {},
   "source": [
    "* map into outcome"
   ]
  },
  {
   "cell_type": "code",
   "execution_count": 29,
   "metadata": {
    "collapsed": false
   },
   "outputs": [],
   "source": [
    "def score_to_sentiment(num):\n",
    "    if num <= 5:\n",
    "        # negative\n",
    "        return 0\n",
    "    elif num <= 7:\n",
    "        # neutralize\n",
    "        return 1\n",
    "    else:\n",
    "        # positive\n",
    "        return 2"
   ]
  },
  {
   "cell_type": "code",
   "execution_count": 30,
   "metadata": {
    "collapsed": false
   },
   "outputs": [],
   "source": [
    "# generate predicted value\n",
    "df_data = df_review[['content']].copy()\n",
    "\n",
    "df_data['sentiment'] = df_review['score'].apply(score_to_sentiment)"
   ]
  },
  {
   "cell_type": "code",
   "execution_count": 31,
   "metadata": {
    "collapsed": false
   },
   "outputs": [],
   "source": [
    "df_sent_dist = df_data.groupby('sentiment').count()"
   ]
  },
  {
   "cell_type": "code",
   "execution_count": 32,
   "metadata": {
    "collapsed": false
   },
   "outputs": [
    {
     "data": {
      "text/plain": [
       "<matplotlib.axes._subplots.AxesSubplot at 0x1204a9780>"
      ]
     },
     "execution_count": 32,
     "metadata": {},
     "output_type": "execute_result"
    },
    {
     "data": {
      "image/png": "[encoded data removed]",
      "text/plain": [
       "<Figure size 720x576 with 1 Axes>"
      ]
     },
     "metadata": {},
     "output_type": "display_data"
    }
   ],
   "source": [
    "df_sent_dist.plot.bar(y = 'content',\n",
    "                      rot = 0,\n",
    "                      title = 'Number of Each Rating Sentiment',\n",
    "                      figsize = (10,8), alpha = 0.8)"
   ]
  }
 ],
 "metadata": {
  "kernelspec": {
   "display_name": "Python 3",
   "language": "python",
   "name": "python3"
  },
  "language_info": {
   "codemirror_mode": {
    "name": "ipython",
    "version": 3
   },
   "file_extension": ".py",
   "mimetype": "text/x-python",
   "name": "python",
   "nbconvert_exporter": "python",
   "pygments_lexer": "ipython3",
   "version": "3.6.0"
  }
 },
 "nbformat": 4,
 "nbformat_minor": 2
}
